{
 "cells": [
  {
   "cell_type": "code",
   "execution_count": null,
   "id": "e50341d6",
   "metadata": {},
   "outputs": [],
   "source": [
    "import pandas as pd\n",
    "import plotly.express as px\n",
    "import statistics\n"
   ]
  },
  {
   "cell_type": "code",
   "execution_count": null,
   "id": "0733477d",
   "metadata": {},
   "outputs": [],
   "source": [
    "df = pd.read_csv(\"SpeedByDepthEstimates.csv\")\n"
   ]
  },
  {
   "cell_type": "code",
   "execution_count": null,
   "id": "749ecf85",
   "metadata": {
    "scrolled": false
   },
   "outputs": [],
   "source": [
    "df"
   ]
  },
  {
   "cell_type": "code",
   "execution_count": null,
   "id": "64a904b8",
   "metadata": {},
   "outputs": [],
   "source": [
    "Depth = df['Bit Depth']\n",
    "BuzzRate = df['BuzzDrill RoP Estimate']\n",
    "AstroRate = df['AstroDrill RoP Estimate']\n",
    "ChallengRate = df['ChallengDrill RoP Estimate']\n",
    "ApolloRate = df['ApolloDrill RoP Estimate']"
   ]
  },
  {
   "cell_type": "code",
   "execution_count": null,
   "id": "b1220f3a",
   "metadata": {},
   "outputs": [],
   "source": [
    "newData = pd.DataFrame(columns=['Bit Depth', 'AstroDrill RoP Estimate', 'ApolloDrill RoP Estimate'])\n",
    "newData['Bit Depth'] = df['Bit Depth']\n",
    "newData['AstroDrill RoP Estimate'] = df['AstroDrill RoP Estimate']\n",
    "newData['ApolloDrill RoP Estimate'] = df['ApolloDrill RoP Estimate']"
   ]
  },
  {
   "cell_type": "markdown",
   "id": "6ad63563",
   "metadata": {},
   "source": [
    "# #Calculate a list of points for each type up to a certain depth"
   ]
  },
  {
   "cell_type": "code",
   "execution_count": null,
   "id": "32f496e6",
   "metadata": {},
   "outputs": [],
   "source": [
    "def calculateTime(Depth, Rate, dist):\n",
    "    finalRate = Rate[len(Rate)-1]\n",
    "    currDepth = 0\n",
    "    atDepth = False\n",
    "    \n",
    "    totalTime = 0\n",
    "    \n",
    "    if(dist < Depth[0]):\n",
    "        return dist/Rate[0]\n",
    "    \n",
    "    for i in range(len(Depth)):\n",
    "        if(atDepth):\n",
    "            totalTime -= Depth[i-1]/Rate[i-1]\n",
    "            currDepth -= Depth[i-1]\n",
    "            totalTime += (dist-currDepth)/Rate[i-1]\n",
    "            return totalTime\n",
    "        totalTime += Depth[i]/Rate[i]\n",
    "        currDepth += Depth[i]\n",
    "        if(currDepth >= dist):\n",
    "            atDepth = True\n",
    "        \n",
    "    totalTime += (dist-currDepth)/finalRate\n",
    "    return totalTime\n",
    "            \n",
    "    "
   ]
  },
  {
   "cell_type": "code",
   "execution_count": null,
   "id": "53d74e6a",
   "metadata": {},
   "outputs": [],
   "source": [
    "def sampledBuzzPrice(dist, sampleSize):\n",
    "    \n",
    "    margin = dist//sampleSize\n",
    "    i = 0\n",
    "    prices = []\n",
    "    price = 5000\n",
    "    while(i <= dist):\n",
    "        temp = i*1.5 + price\n",
    "        prices.append(temp)\n",
    "        i += margin\n",
    "    prices.append(dist*1.5 + price)\n",
    "    return prices\n",
    "    "
   ]
  },
  {
   "cell_type": "code",
   "execution_count": null,
   "id": "acbfe346",
   "metadata": {},
   "outputs": [],
   "source": [
    "def sampledHourlyPrice(Depth, Rate, dist, sampleSize, hourlyRate, distRate, price):\n",
    "    \n",
    "    margin = dist//sampleSize\n",
    "    i = 0\n",
    "    prices = []\n",
    "    while(i <= dist):\n",
    "        temp = calculateTime(Depth, Rate, i)*hourlyRate + i*distRate + price\n",
    "        prices.append(temp)\n",
    "        i += margin\n",
    "    prices.append(dist*distRate + price + calculateTime(Depth, Rate, dist)*hourlyRate)\n",
    "    return prices\n"
   ]
  },
  {
   "cell_type": "code",
   "execution_count": null,
   "id": "550234e1",
   "metadata": {
    "scrolled": true
   },
   "outputs": [],
   "source": [
    "dist = 10000\n",
    "samples = 10000\n",
    "BuzzPrices = sampledBuzzPrice(dist, samples)\n",
    "AstroPrices = sampledHourlyPrice(Depth, AstroRate, dist, samples, 1500, 1, 3000)\n",
    "ChallengPrice = 10000\n",
    "ApolloPrices = sampledHourlyPrice(Depth, ApolloRate, dist, samples, 2500, 4, 1000)"
   ]
  },
  {
   "cell_type": "code",
   "execution_count": null,
   "id": "df7e6c0b",
   "metadata": {},
   "outputs": [],
   "source": []
  }
 ],
 "metadata": {
  "kernelspec": {
   "display_name": "Python 3 (ipykernel)",
   "language": "python",
   "name": "python3"
  },
  "language_info": {
   "codemirror_mode": {
    "name": "ipython",
    "version": 3
   },
   "file_extension": ".py",
   "mimetype": "text/x-python",
   "name": "python",
   "nbconvert_exporter": "python",
   "pygments_lexer": "ipython3",
   "version": "3.9.7"
  }
 },
 "nbformat": 4,
 "nbformat_minor": 5
}
