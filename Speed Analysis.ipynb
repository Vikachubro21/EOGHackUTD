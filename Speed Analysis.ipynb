{
 "cells": [
  {
   "cell_type": "code",
   "execution_count": null,
   "id": "cbd47ada",
   "metadata": {},
   "outputs": [],
   "source": [
    "import pandas as pd\n",
    "import plotly.express as px\n",
    "import statistics\n",
    "from scipy import stats\n",
    "import numpy as np"
   ]
  },
  {
   "cell_type": "code",
   "execution_count": null,
   "id": "fa383d77",
   "metadata": {},
   "outputs": [],
   "source": [
    "asterName = \"Asteroids/Asteroid \""
   ]
  },
  {
   "cell_type": "markdown",
   "id": "0a88519a",
   "metadata": {},
   "source": [
    "## We add all files to the same data frame\n",
    "This is to get an overall understanding of the drilling process and relations between variables"
   ]
  },
  {
   "cell_type": "code",
   "execution_count": null,
   "id": "8987a63f",
   "metadata": {},
   "outputs": [],
   "source": [
    "BIT_DEPTH = []\n",
    "RATE_OF_PENETRATION = []\n",
    "HOOK_LOAD = []\n",
    "DIFFERENTIAL_PRESSURE = []\n",
    "WEIGHT_ON_BIT = []\n",
    "DRILL_BIT_ID = []\n",
    "DRILL_BIT_NAME = []\n",
    "RUN_ID = []\n",
    "TIME = []\n",
    "curTime=0.0 #hours\n",
    "runNumber = 0"
   ]
  },
  {
   "cell_type": "markdown",
   "id": "9037af4c",
   "metadata": {},
   "source": [
    "When reading in the files we catch bad data using a few methods\n",
    "1. Nan values\n",
    "2. Negative Depth\n",
    "3. Ascending drill\n",
    "4. Miscalculated rates of penetration"
   ]
  },
  {
   "cell_type": "code",
   "execution_count": null,
   "id": "4d333ff8",
   "metadata": {},
   "outputs": [],
   "source": [
    "for i in range(1, 21):\n",
    "    prevName=\"\"\n",
    "    curTime=0\n",
    "    prevPrevBitDepth=-1.0\n",
    "    prevBitDepth=-1.0\n",
    "    currName = asterName + str(i) + \".csv\"\n",
    "    df = pd.read_csv(currName)\n",
    "    for index, row in df.iterrows():\n",
    "        if(row['BIT_DEPTH'] != row['BIT_DEPTH'] or row['RATE_OF_PENETRATION'] != row['RATE_OF_PENETRATION'] or row['HOOK_LOAD'] != row['HOOK_LOAD']):\n",
    "            continue\n",
    "        if(row['BIT_DEPTH']<=0):\n",
    "            continue\n",
    "        if(prevBitDepth!=-1 and row['BIT_DEPTH']-prevBitDepth < 0):\n",
    "            prevBitDepth=prevPrevBitDepth\n",
    "            continue\n",
    "        if(row['RATE_OF_PENETRATION']<8):\n",
    "            continue\n",
    "        BIT_DEPTH.append(row['BIT_DEPTH'])\n",
    "        RATE_OF_PENETRATION.append(row['RATE_OF_PENETRATION'])\n",
    "        HOOK_LOAD.append(row['HOOK_LOAD'])\n",
    "        DIFFERENTIAL_PRESSURE.append(row['DIFFERENTIAL_PRESSURE'])\n",
    "        WEIGHT_ON_BIT.append(row['WEIGHT_ON_BIT'])\n",
    "        DRILL_BIT_ID.append(row['DRILL_BIT_ID'])\n",
    "        DRILL_BIT_NAME.append(row['DRILL_BIT_NAME'])\n",
    "        if prevBitDepth != -1:\n",
    "            curTime+=(row['BIT_DEPTH']-prevBitDepth)/(row['RATE_OF_PENETRATION']) if row['RATE_OF_PENETRATION']!= 0.0 else 0.0\n",
    "        prevPrevBitDepth=prevBitDepth\n",
    "        prevBitDepth=row['BIT_DEPTH']\n",
    "        TIME.append(curTime)\n",
    "        if(prevName != row['DRILL_BIT_NAME']):\n",
    "            runNumber += 1\n",
    "            prevName = row['DRILL_BIT_NAME']\n",
    "            prevBitDepth=-1.0\n",
    "            curTime=0\n",
    "        RUN_ID.append(runNumber)"
   ]
  },
  {
   "cell_type": "code",
   "execution_count": null,
   "id": "1ef1250d",
   "metadata": {},
   "outputs": [],
   "source": [
    "f = pd.DataFrame(columns = ['BIT DEPTH', 'RATE OF PENETRATION', 'HOOK LOAD', 'DIFFERENTIAL PRESSURE', 'WEIGHT ON BIT', 'DRILL BIT ID', 'DRILL BIT NAME', 'RUN ID', 'TIME'])"
   ]
  },
  {
   "cell_type": "markdown",
   "id": "d4742ce9",
   "metadata": {},
   "source": []
  },
  {
   "cell_type": "code",
   "execution_count": null,
   "id": "012590e5",
   "metadata": {},
   "outputs": [],
   "source": [
    "f['TIME']=TIME\n",
    "f['BIT DEPTH'] = BIT_DEPTH\n",
    "f['RATE OF PENETRATION'] = RATE_OF_PENETRATION\n",
    "f['HOOK LOAD'] = HOOK_LOAD\n",
    "f['DIFFERENTIAL PRESSURE'] = DIFFERENTIAL_PRESSURE\n",
    "f['WEIGHT ON BIT'] = WEIGHT_ON_BIT\n",
    "f['DRILL BIT ID'] = DRILL_BIT_ID\n",
    "f['DRILL BIT NAME'] = DRILL_BIT_NAME\n",
    "f['RUN ID'] = RUN_ID\n"
   ]
  },
  {
   "cell_type": "markdown",
   "id": "c1a9ad1b",
   "metadata": {},
   "source": [
    "After reading the data from all the asteroid files, we can now visualise some relations. First we have the graph of Bit Depth to Time, from which we can see the approximate depths that drills slow down at."
   ]
  },
  {
   "cell_type": "code",
   "execution_count": null,
   "id": "8299328e",
   "metadata": {
    "scrolled": false
   },
   "outputs": [],
   "source": [
    "fig = px.scatter(f, x='TIME', y='BIT DEPTH', color='DRILL BIT NAME')\n",
    "fig.show()"
   ]
  },
  {
   "cell_type": "markdown",
   "id": "daa80e56",
   "metadata": {},
   "source": [
    "## Read the data for different drills\n",
    "We have separated the data based on Drill Bit Name into different files, and are reading them in to organize the data."
   ]
  },
  {
   "cell_type": "code",
   "execution_count": null,
   "id": "95ec4d6e",
   "metadata": {},
   "outputs": [],
   "source": [
    "BuzzDrill = pd.DataFrame(columns = ['BIT DEPTH', 'RATE OF PENETRATION', 'HOOK LOAD', 'DIFFERENTIAL PRESSURE', 'WEIGHT ON BIT', 'DRILL BIT ID', 'DRILL BIT NAME', 'RUN ID', 'TIME'])\n",
    "AstroBit = pd.DataFrame(columns = ['BIT DEPTH', 'RATE OF PENETRATION', 'HOOK LOAD', 'DIFFERENTIAL PRESSURE', 'WEIGHT ON BIT', 'DRILL BIT ID', 'DRILL BIT NAME', 'RUN ID', 'TIME'])\n",
    "ChallengeDriller = pd.DataFrame(columns = ['BIT DEPTH', 'RATE OF PENETRATION', 'HOOK LOAD', 'DIFFERENTIAL PRESSURE', 'WEIGHT ON BIT', 'DRILL BIT ID', 'DRILL BIT NAME', 'RUN ID', 'TIME'])\n",
    "Apollo = pd.DataFrame(columns = ['BIT DEPTH', 'RATE OF PENETRATION', 'HOOK LOAD', 'DIFFERENTIAL PRESSURE', 'WEIGHT ON BIT', 'DRILL BIT ID', 'DRILL BIT NAME', 'RUN ID', 'TIME'])"
   ]
  },
  {
   "cell_type": "code",
   "execution_count": null,
   "id": "14a6fac5",
   "metadata": {},
   "outputs": [],
   "source": []
  },
  {
   "cell_type": "code",
   "execution_count": null,
   "id": "b8cfa243",
   "metadata": {},
   "outputs": [],
   "source": []
  },
  {
   "cell_type": "code",
   "execution_count": null,
   "id": "b5ae7e8b",
   "metadata": {},
   "outputs": [],
   "source": []
  },
  {
   "cell_type": "code",
   "execution_count": null,
   "id": "c7088d78",
   "metadata": {},
   "outputs": [],
   "source": [
    "fig = px.scatter(f, x='BIT DEPTH', y='RATE OF PENETRATION', color='DRILL BIT NAME')\n",
    "fig.show()"
   ]
  },
  {
   "cell_type": "markdown",
   "id": "5a466c97",
   "metadata": {},
   "source": [
    "Note that the above graph contains a lot of outlier points, which need to be removed. We can do this by grouping the points into intervals of $\\Delta x = 500$ and performing a standard deviation outlier check with $m=3$"
   ]
  },
  {
   "cell_type": "code",
   "execution_count": null,
   "id": "5f6e9ec7",
   "metadata": {
    "scrolled": false
   },
   "outputs": [],
   "source": [
    "OUTLIER_DICT={}\n",
    "for index, i in enumerate(f['BIT DEPTH']):\n",
    "    val=i-i%500\n",
    "    if val in OUTLIER_DICT:\n",
    "        OUTLIER_DICT[val].append(f['RATE OF PENETRATION'][index])\n",
    "    else:\n",
    "        OUTLIER_DICT.update({val:[f['RATE OF PENETRATION'][index]]})\n",
    "topCutoff = {}\n",
    "for indice in OUTLIER_DICT:\n",
    "    topCutoff.update({indice:np.mean(OUTLIER_DICT[indice])+np.std(OUTLIER_DICT[indice])*3})\n",
    "f['VALID'] = np.nan\n",
    "for index, element in enumerate(f['BIT DEPTH']):\n",
    "    f.at[index,'VALID']=f['RATE OF PENETRATION'][index]<topCutoff[element-element%500] \n",
    "f=f[f['VALID']]\n",
    "f=f.drop('VALID', axis=1)"
   ]
  },
  {
   "cell_type": "code",
   "execution_count": null,
   "id": "cc7a0a13",
   "metadata": {},
   "outputs": [],
   "source": [
    "fig = px.scatter(f, x='BIT DEPTH', y='RATE OF PENETRATION', color='DRILL BIT NAME')\n",
    "fig.show()"
   ]
  },
  {
   "cell_type": "markdown",
   "id": "e8ddb2da",
   "metadata": {},
   "source": [
    "Data points are now much more consistent and will provide better rate of penetration data"
   ]
  },
  {
   "cell_type": "code",
   "execution_count": null,
   "id": "833c7940",
   "metadata": {},
   "outputs": [],
   "source": [
    "DEPTH_DICT={}\n",
    "for rate, depth in zip(f['RATE OF PENETRATION'],f['BIT DEPTH']):\n",
    "    if(depth!=depth):\n",
    "        continue\n",
    "    val=depth-depth%50\n",
    "    if val in DEPTH_DICT:\n",
    "        DEPTH_DICT[val].append(rate)\n",
    "    else:\n",
    "        DEPTH_DICT.update({val:[rate]})\n",
    "TEMP_X=[]\n",
    "TEMP_Y=[]\n",
    "CUR_DEPTH_500_INDEX=150\n",
    "while CUR_DEPTH_500_INDEX in DEPTH_DICT:\n",
    "    TEMP_X.append(CUR_DEPTH_500_INDEX)\n",
    "    TEMP_Y.append(statistics.median(DEPTH_DICT[CUR_DEPTH_500_INDEX]))\n",
    "    CUR_DEPTH_500_INDEX+=50"
   ]
  },
  {
   "cell_type": "code",
   "execution_count": null,
   "id": "2805666d",
   "metadata": {},
   "outputs": [],
   "source": [
    "fig= px.scatter(x=TEMP_X, y=TEMP_Y,trendline=\"lowess\",trendline_options=dict(frac=0.08))\n",
    "fig.show()"
   ]
  },
  {
   "cell_type": "markdown",
   "id": "78dd95a1",
   "metadata": {},
   "source": [
    "The above graph shows the median Rate of Penetration averaged for all drills across Bit Depth. If we assume that all asteroids have some similar density distribution, we can estimate the adjusted speed of each drill to be $\\alpha_x =\\frac{v_x}{\\rho_x}$\n",
    "Where $\\rho$ is the density of the position. Then, we can find $\\rho$ by inverting the y-values of this graph"
   ]
  },
  {
   "cell_type": "code",
   "execution_count": null,
   "id": "aeffacea",
   "metadata": {},
   "outputs": [],
   "source": [
    "AVG_HARDNESS_X=fig.data[0]['x']\n",
    "AVG_HARDNESS_Y=fig.data[0]['y']"
   ]
  },
  {
   "cell_type": "code",
   "execution_count": null,
   "id": "f6ab6528",
   "metadata": {
    "scrolled": false
   },
   "outputs": [],
   "source": []
  },
  {
   "cell_type": "code",
   "execution_count": null,
   "id": "c4ad89ca",
   "metadata": {},
   "outputs": [],
   "source": [
    "ChallengDrill = pd.read_csv(\"ChallengDriller.csv\")\n",
    "BuzzDrill = pd.read_csv(\"Buzz Drilldrin.csv\")\n",
    "AstroDrill = pd.read_csv(\"Astro Bit.csv\")\n",
    "ApolloDrill = pd.read_csv(\"Apollo.csv\")"
   ]
  },
  {
   "cell_type": "code",
   "execution_count": null,
   "id": "8993d9f6",
   "metadata": {},
   "outputs": [],
   "source": [
    "DEPTH_DICT={}\n",
    "for index, i in enumerate(BuzzDrill['BIT DEPTH']):\n",
    "    val=i-i%50\n",
    "    if val in DEPTH_DICT:\n",
    "        DEPTH_DICT[val].append(BuzzDrill['RATE OF PENETRATION'][index])\n",
    "    else:\n",
    "        DEPTH_DICT.update({val:[BuzzDrill['RATE OF PENETRATION'][index]]})\n",
    "BuzzX=[]\n",
    "BuzzY=[]\n",
    "CUR_DEPTH_500_INDEX=min(DEPTH_DICT.keys())\n",
    "for CUR_DEPTH_500_INDEX in range(300,19050,50):\n",
    "    if CUR_DEPTH_500_INDEX in DEPTH_DICT:\n",
    "        BuzzX.append(CUR_DEPTH_500_INDEX)\n",
    "        BuzzY.append(statistics.median(DEPTH_DICT[CUR_DEPTH_500_INDEX]))\n",
    "\n",
    "    \n",
    "df = pd.DataFrame(columns=['Bit Depth', 'Median Rate of Penetration(ft/hr) per 500 ft'])\n",
    "df['Bit Depth'] = BuzzX\n",
    "df['Median Rate of Penetration(ft/hr) per 500 ft'] = BuzzY\n"
   ]
  },
  {
   "cell_type": "code",
   "execution_count": null,
   "id": "7271901d",
   "metadata": {},
   "outputs": [],
   "source": [
    "DEPTH_DICT={}\n",
    "for index, i in enumerate(AstroDrill['BIT DEPTH']):\n",
    "    val=i-i%50\n",
    "    if val in DEPTH_DICT:\n",
    "        DEPTH_DICT[val].append(AstroDrill['RATE OF PENETRATION'][index])\n",
    "    else:\n",
    "        DEPTH_DICT.update({val:[AstroDrill['RATE OF PENETRATION'][index]]})\n",
    "AstroX=[]\n",
    "AstroY=[]\n",
    "CUR_DEPTH_500_INDEX=min(DEPTH_DICT.keys())\n",
    "for CUR_DEPTH_500_INDEX in range(300,19050,50):\n",
    "    if CUR_DEPTH_500_INDEX in DEPTH_DICT:\n",
    "        AstroX.append(CUR_DEPTH_500_INDEX)\n",
    "        AstroY.append(statistics.median(DEPTH_DICT[CUR_DEPTH_500_INDEX]))\n",
    "\n",
    "\n",
    "    \n",
    "df = pd.DataFrame(columns=['Bit Depth', 'Median Rate of Penetration(ft/hr) per 500 ft'])\n",
    "df['Bit Depth'] = AstroX\n",
    "df['Median Rate of Penetration(ft/hr) per 500 ft'] = AstroY\n"
   ]
  },
  {
   "cell_type": "code",
   "execution_count": null,
   "id": "1cfb135f",
   "metadata": {},
   "outputs": [],
   "source": [
    "DEPTH_DICT={}\n",
    "for index, i in enumerate(ChallengDrill['BIT DEPTH']):\n",
    "    val=i-i%50\n",
    "    if val in DEPTH_DICT:\n",
    "        DEPTH_DICT[val].append(ChallengDrill['RATE OF PENETRATION'][index])\n",
    "    else:\n",
    "        DEPTH_DICT.update({val:[ChallengDrill['RATE OF PENETRATION'][index]]})\n",
    "ChallengX=[]\n",
    "ChallengY=[]\n",
    "SampleSize=[]\n",
    "\n",
    "for CUR_DEPTH_500_INDEX in range(300,19050,50):\n",
    "    if CUR_DEPTH_500_INDEX in DEPTH_DICT:\n",
    "        SampleSize.append(len(DEPTH_DICT[CUR_DEPTH_500_INDEX]))\n",
    "        ChallengX.append(CUR_DEPTH_500_INDEX)\n",
    "        ChallengY.append(statistics.median(DEPTH_DICT[CUR_DEPTH_500_INDEX]))  \n",
    "\n",
    "\n",
    "df = pd.DataFrame(columns=['Bit Depth', 'Median Rate of Penetration(ft/hr) per 500 ft','Sample Size'])\n",
    "df['Bit Depth'] = ChallengX\n",
    "df['Median Rate of Penetration(ft/hr) per 500 ft'] = ChallengY\n",
    "df['Sample Size']= SampleSize\n"
   ]
  },
  {
   "cell_type": "code",
   "execution_count": null,
   "id": "99253165",
   "metadata": {},
   "outputs": [],
   "source": [
    "fig = px.scatter(df, x='Bit Depth',y='Median Rate of Penetration(ft/hr) per 500 ft',hover_name='Sample Size' ,trendline=\"lowess\",trendline_options=dict(frac=0.1))\n",
    "fig.show()"
   ]
  },
  {
   "cell_type": "code",
   "execution_count": null,
   "id": "a477ef2d",
   "metadata": {},
   "outputs": [],
   "source": [
    "DEPTH_DICT={}\n",
    "for index, i in enumerate(ApolloDrill['BIT DEPTH']):\n",
    "    val=i-i%50\n",
    "    if val in DEPTH_DICT:\n",
    "        DEPTH_DICT[val].append(ApolloDrill['RATE OF PENETRATION'][index])\n",
    "    else:\n",
    "        DEPTH_DICT.update({val:[ApolloDrill['RATE OF PENETRATION'][index]]})\n",
    "ApolloX=[]\n",
    "ApolloY=[]\n",
    "CUR_DEPTH_500_INDEX=min(DEPTH_DICT.keys())\n",
    "for CUR_DEPTH_500_INDEX in range(300,19050,50):\n",
    "    if CUR_DEPTH_500_INDEX in DEPTH_DICT:\n",
    "        ApolloX.append(CUR_DEPTH_500_INDEX)\n",
    "        ApolloY.append(statistics.median(DEPTH_DICT[CUR_DEPTH_500_INDEX]))\n",
    "\n",
    "    \n",
    "df = pd.DataFrame(columns=['Bit Depth', 'Median Rate of Penetration(ft/hr) per 500 ft'])\n",
    "df['Bit Depth'] = ApolloX\n",
    "df['Median Rate of Penetration(ft/hr) per 500 ft'] = ApolloY\n"
   ]
  },
  {
   "cell_type": "code",
   "execution_count": null,
   "id": "eb48051a",
   "metadata": {},
   "outputs": [],
   "source": [
    "for num in range(len(BuzzX)):\n",
    "    BuzzY[num]/=AVG_HARDNESS_Y[int(BuzzX[num]/50-6)]\n",
    "for num in range(len(AstroX)):\n",
    "    AstroY[num]/=AVG_HARDNESS_Y[int(AstroX[num]/50-6)]\n",
    "for num in range(len(ChallengX)):\n",
    "    ChallengY[num]/=AVG_HARDNESS_Y[int(ChallengX[num]/50-6)]\n",
    "for num in range(len(ApolloX)):\n",
    "    ApolloY[num]/=AVG_HARDNESS_Y[int(ApolloX[num]/50-6)]"
   ]
  },
  {
   "cell_type": "code",
   "execution_count": null,
   "id": "f57cc28a",
   "metadata": {},
   "outputs": [],
   "source": [
    "currFrame = pd.DataFrame(columns = ['Bit Depth', 'RoP Estimate', 'Bit Drill Name'])\n",
    "\n",
    "allDepths = []\n",
    "allRoP = []\n",
    "allNames = []\n",
    "\n",
    "for d in range(len(BuzzX)):\n",
    "    allDepths.append(BuzzX[d])\n",
    "    allRoP.append(BuzzY[d])\n",
    "    allNames.append(\"Buzz Drilldrin\")\n",
    "for d in range(len(AstroX)):\n",
    "    allDepths.append(AstroX[d])\n",
    "    allRoP.append(AstroY[d])\n",
    "    allNames.append(\"Astro Drill\")\n",
    "for d in range(len(ChallengX)):\n",
    "    allDepths.append(ChallengX[d])\n",
    "    allRoP.append(ChallengY[d])\n",
    "    allNames.append(\"ChallengDriller\")\n",
    "for d in range(len(ApolloX)):\n",
    "    allDepths.append(ApolloX[d])\n",
    "    allRoP.append(ApolloY[d])\n",
    "    allNames.append(\"Apollo\")\n",
    "\n",
    "currFrame['Bit Depth'] = allDepths\n",
    "currFrame['RoP Estimate'] = allRoP\n",
    "currFrame['Bit Drill Name'] = allNames\n"
   ]
  },
  {
   "cell_type": "code",
   "execution_count": null,
   "id": "fe169365",
   "metadata": {},
   "outputs": [],
   "source": [
    "file = open(\"DepthVRoPSmoothed.json\", \"w\")\n",
    "file.write(currFrame.to_json())\n",
    "file.close()"
   ]
  },
  {
   "cell_type": "code",
   "execution_count": null,
   "id": "b9d72499",
   "metadata": {
    "scrolled": false
   },
   "outputs": [],
   "source": [
    "fig = px.scatter(currFrame, x='Bit Depth', y='RoP Estimate', color='Bit Drill Name',trendline=\"lowess\",trendline_options=dict(frac=0.1))\n",
    "fig.data = [t for t in fig.data if t.mode == \"lines\"]\n",
    "fig.update_traces(showlegend=True)\n",
    "fig.show()"
   ]
  },
  {
   "cell_type": "code",
   "execution_count": null,
   "id": "99203d4c",
   "metadata": {},
   "outputs": [],
   "source": []
  },
  {
   "cell_type": "code",
   "execution_count": null,
   "id": "fde43d38",
   "metadata": {},
   "outputs": [],
   "source": [
    "TestFrame = pd.DataFrame(columns = ['Bit Depth', 'RoP Estimate', 'Bit Drill Name'])\n",
    "\n",
    "titles = [\"Buzz Drilldrin\", \"Astro Drill\", \"ChallengDriller\", \"Apollo\"]\n",
    "\n",
    "temp_RoP=[]\n",
    "temp_titles=[]\n",
    "for j in range(4):\n",
    "    temp_RoP+=[i*AVG_HARDNESS_Y[index] for index,i in enumerate(fig.data[j]['y'])]\n",
    "    temp_titles+=[titles[j]]*len(fig.data[j]['y'])\n",
    "TestFrame['Bit Depth'] = currFrame['Bit Depth']\n",
    "TestFrame['RoP Estimate'] = [1/i for i in temp_RoP]\n",
    "TestFrame['Bit Drill Name'] = temp_titles"
   ]
  },
  {
   "cell_type": "code",
   "execution_count": null,
   "id": "f50d2540",
   "metadata": {},
   "outputs": [],
   "source": [
    "file = open(\"InvertedDepthByRoP.json\", \"w\")\n",
    "file.write(TestFrame.to_json())\n",
    "file.close()"
   ]
  },
  {
   "cell_type": "code",
   "execution_count": null,
   "id": "935acc88",
   "metadata": {},
   "outputs": [],
   "source": [
    "fig = px.scatter(TestFrame, x='Bit Depth',y='RoP Estimate', color='Bit Drill Name',trendline=\"lowess\",trendline_options=dict(frac=0.08))\n",
    "fig.data = [t for t in fig.data if t.mode == \"lines\"]\n",
    "fig.update_traces(showlegend=True)\n",
    "fig.show()"
   ]
  },
  {
   "cell_type": "code",
   "execution_count": null,
   "id": "61f02c20",
   "metadata": {},
   "outputs": [],
   "source": []
  },
  {
   "cell_type": "code",
   "execution_count": null,
   "id": "408fa3a0",
   "metadata": {},
   "outputs": [],
   "source": [
    "SUM=[0.0,0.0,0.0,0.0]\n",
    "RATE=[[],[],[],[]]\n",
    "HOURS_PER_FOOT=[]\n",
    "for i in range(4):\n",
    "    HOURS_PER_FOOT.append(fig.data[i]['y'])\n",
    "    for j in fig.data[i]['y']:\n",
    "        RATE[i].append(SUM[i])\n",
    "        SUM[i]+=(j)*50"
   ]
  },
  {
   "cell_type": "code",
   "execution_count": null,
   "id": "0df3478a",
   "metadata": {},
   "outputs": [],
   "source": [
    "IntegratedFrame = pd.DataFrame(columns = ['Bit Depth', 'Hours per Foot', 'Bit Drill Name'])\n",
    "\n",
    "titles = [\"Buzz Drilldrin\", \"Astro Drill\", \"ChallengDriller\", \"Apollo\"]\n",
    "id_from_drill_name ={\"Buzz Drilldrin\":0, \"Astro Drill\":1, \"ChallengDriller\":2, \"Apollo\":3}\n",
    "\n",
    "names = []\n",
    "rops = []\n",
    "\n",
    "for i in range(4):\n",
    "    for j in range(len(RATE[i])):\n",
    "        names.append(titles[i])\n",
    "        rops.append(RATE[i][j])\n",
    "IntegratedFrame['Bit Depth'] = currFrame['Bit Depth']\n",
    "IntegratedFrame['Hours per Foot'] = rops\n",
    "IntegratedFrame['Bit Drill Name'] = names"
   ]
  },
  {
   "cell_type": "code",
   "execution_count": null,
   "id": "419241f7",
   "metadata": {},
   "outputs": [],
   "source": [
    "file = open(\"IntegratedDF.json\", \"w\")\n",
    "file.write(IntegratedFrame.to_json())\n",
    "file.close()"
   ]
  },
  {
   "cell_type": "code",
   "execution_count": null,
   "id": "3a84e313",
   "metadata": {
    "scrolled": false
   },
   "outputs": [],
   "source": [
    "fig = px.line(IntegratedFrame, x='Bit Depth',y='Hours per Foot', color='Bit Drill Name')\n",
    "fig.show()"
   ]
  },
  {
   "cell_type": "code",
   "execution_count": null,
   "id": "90af03d6",
   "metadata": {},
   "outputs": [],
   "source": [
    "totalHours=0.0\n",
    "Hour_per_foot=[]\n",
    "final_depth=[]\n",
    "final_color=[]\n",
    "switch_dict = {7800:\"ChallengDriller\", 14450:\"Apollo\"}\n",
    "curDrill=\"Astro Drill\"\n",
    "for index, i in enumerate(range(350,19050,50)):\n",
    "    if(i in switch_dict):\n",
    "        curDrill = switch_dict[i]\n",
    "        totalHours+=i/12000\n",
    "    final_color.append(curDrill)\n",
    "    totalHours+=HOURS_PER_FOOT[id_from_drill_name[curDrill]][index]*50\n",
    "    Hour_per_foot.append(totalHours)\n",
    "    final_depth.append(i)"
   ]
  },
  {
   "cell_type": "code",
   "execution_count": null,
   "id": "08c50568",
   "metadata": {},
   "outputs": [],
   "source": [
    "fig= px.line(y=Hour_per_foot, x=final_depth,color=final_color)\n",
    "fig.show()"
   ]
  },
  {
   "cell_type": "code",
   "execution_count": null,
   "id": "cc608497",
   "metadata": {},
   "outputs": [],
   "source": []
  },
  {
   "cell_type": "code",
   "execution_count": null,
   "id": "ce8acfcf",
   "metadata": {},
   "outputs": [],
   "source": []
  }
 ],
 "metadata": {
  "kernelspec": {
   "display_name": "Python 3 (ipykernel)",
   "language": "python",
   "name": "python3"
  },
  "language_info": {
   "codemirror_mode": {
    "name": "ipython",
    "version": 3
   },
   "file_extension": ".py",
   "mimetype": "text/x-python",
   "name": "python",
   "nbconvert_exporter": "python",
   "pygments_lexer": "ipython3",
   "version": "3.9.12"
  }
 },
 "nbformat": 4,
 "nbformat_minor": 5
}
