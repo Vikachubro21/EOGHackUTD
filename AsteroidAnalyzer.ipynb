{
 "cells": [
  {
   "cell_type": "code",
   "execution_count": null,
   "id": "cbd47ada",
   "metadata": {},
   "outputs": [],
   "source": [
    "import pandas as pd\n",
    "import plotly.express as px\n",
    "import statistics\n",
    "import plotly.io as pi"
   ]
  },
  {
   "cell_type": "code",
   "execution_count": null,
   "id": "fa383d77",
   "metadata": {},
   "outputs": [],
   "source": [
    "asterName = \"Asteroids/Asteroid \""
   ]
  },
  {
   "cell_type": "markdown",
   "id": "0a88519a",
   "metadata": {},
   "source": [
    "## Will add all files to the same data frame\n"
   ]
  },
  {
   "cell_type": "code",
   "execution_count": null,
   "id": "8987a63f",
   "metadata": {},
   "outputs": [],
   "source": [
    "BIT_DEPTH = []\n",
    "RATE_OF_PENETRATION = []\n",
    "HOOK_LOAD = []\n",
    "DIFFERENTIAL_PRESSURE = []\n",
    "WEIGHT_ON_BIT = []\n",
    "DRILL_BIT_ID = []\n",
    "DRILL_BIT_NAME = []\n",
    "RUN_ID = []\n",
    "TIME = []\n",
    "curTime=0.0 #hours\n",
    "runNumber = 0\n",
    "\n",
    "AmountDrillsUsedPerRun = []"
   ]
  },
  {
   "cell_type": "code",
   "execution_count": null,
   "id": "4d333ff8",
   "metadata": {},
   "outputs": [],
   "source": [
    "for i in range(1, 21):\n",
    "    prevName=\"\"\n",
    "    curTime=0\n",
    "    drillNum = 0\n",
    "    prevPrevBitDepth=-1.0\n",
    "    prevBitDepth=-1.0\n",
    "    currName = asterName + str(i) + \".csv\"\n",
    "    df = pd.read_csv(currName)\n",
    "    \n",
    "    for index, row in df.iterrows():\n",
    "        if(row['BIT_DEPTH'] != row['BIT_DEPTH'] or row['RATE_OF_PENETRATION'] != row['RATE_OF_PENETRATION'] or row['HOOK_LOAD'] != row['HOOK_LOAD'] or row['WEIGHT_ON_BIT'] != row['WEIGHT_ON_BIT'\n",
    "        ] or row['DIFFERENTIAL_PRESSURE'] != row['DIFFERENTIAL_PRESSURE']):\n",
    "            continue\n",
    "        if(row['BIT_DEPTH']<=0):\n",
    "            continue\n",
    "        if(prevBitDepth!=-1 and row['BIT_DEPTH']-prevBitDepth < 0):\n",
    "            #print(index,i, row['BIT_DEPTH'], prevBitDepth, row['BIT_DEPTH']-prevBitDepth, row['RATE_OF_PENETRATION'])\n",
    "            prevBitDepth=prevPrevBitDepth\n",
    "            continue\n",
    "        if(row['RATE_OF_PENETRATION'] < 10):\n",
    "            continue\n",
    "        BIT_DEPTH.append(row['BIT_DEPTH'])\n",
    "        RATE_OF_PENETRATION.append(row['RATE_OF_PENETRATION'])\n",
    "        HOOK_LOAD.append(row['HOOK_LOAD'])\n",
    "        DIFFERENTIAL_PRESSURE.append(row['DIFFERENTIAL_PRESSURE'])\n",
    "        WEIGHT_ON_BIT.append(row['WEIGHT_ON_BIT'])\n",
    "        DRILL_BIT_ID.append(row['DRILL_BIT_ID'])\n",
    "        DRILL_BIT_NAME.append(row['DRILL_BIT_NAME'])\n",
    "        if prevBitDepth != -1:\n",
    "            curTime+=(row['BIT_DEPTH']-prevBitDepth)/(row['RATE_OF_PENETRATION']) if row['RATE_OF_PENETRATION']!= 0.0 else 0.0\n",
    "        prevPrevBitDepth=prevBitDepth\n",
    "        prevBitDepth=row['BIT_DEPTH']\n",
    "        TIME.append(curTime)\n",
    "        if(prevName != row['DRILL_BIT_NAME']):\n",
    "            if(row['DRILL_BIT_ID']-drillNum == 0):\n",
    "                AmountDrillsUsedPerRun.append(1)\n",
    "            else:\n",
    "                AmountDrillsUsedPerRun.append(row['DRILL_BIT_ID']-drillNum)\n",
    "            runNumber += 1\n",
    "            prevName = row['DRILL_BIT_NAME']\n",
    "            prevBitDepth=-1.0\n",
    "            curTime=0\n",
    "            drillNum = row['DRILL_BIT_ID']\n",
    "        RUN_ID.append(runNumber)\n",
    "        \n",
    "print(AmountDrillsUsedPerRun)"
   ]
  },
  {
   "cell_type": "code",
   "execution_count": null,
   "id": "1ef1250d",
   "metadata": {},
   "outputs": [],
   "source": [
    "f = pd.DataFrame(columns = ['BIT DEPTH', 'RATE OF PENETRATION', 'HOOK LOAD', 'DIFFERENTIAL PRESSURE', 'WEIGHT ON BIT', 'DRILL BIT ID', 'DRILL BIT NAME', 'RUN ID', 'TIME'])\n",
    "print(len(AmountDrillsUsedPerRun))"
   ]
  },
  {
   "cell_type": "code",
   "execution_count": null,
   "id": "012590e5",
   "metadata": {},
   "outputs": [],
   "source": [
    "f['TIME']=TIME\n",
    "f['BIT DEPTH'] = BIT_DEPTH\n",
    "f['RATE OF PENETRATION'] = RATE_OF_PENETRATION\n",
    "f['HOOK LOAD'] = HOOK_LOAD\n",
    "f['DIFFERENTIAL PRESSURE'] = DIFFERENTIAL_PRESSURE\n",
    "f['WEIGHT ON BIT'] = WEIGHT_ON_BIT\n",
    "f['DRILL BIT ID'] = DRILL_BIT_ID\n",
    "f['DRILL BIT NAME'] = DRILL_BIT_NAME\n",
    "f['RUN ID'] = RUN_ID\n"
   ]
  },
  {
   "cell_type": "code",
   "execution_count": null,
   "id": "8299328e",
   "metadata": {},
   "outputs": [],
   "source": [
    "f"
   ]
  },
  {
   "cell_type": "code",
   "execution_count": null,
   "id": "95ec4d6e",
   "metadata": {},
   "outputs": [],
   "source": [
    "BuzzDrill = pd.DataFrame(columns = ['BIT DEPTH', 'RATE OF PENETRATION', 'HOOK LOAD', 'DIFFERENTIAL PRESSURE', 'WEIGHT ON BIT', 'DRILL BIT ID', 'DRILL BIT NAME', 'RUN ID', 'TIME'])\n",
    "AstroBit = pd.DataFrame(columns = ['BIT DEPTH', 'RATE OF PENETRATION', 'HOOK LOAD', 'DIFFERENTIAL PRESSURE', 'WEIGHT ON BIT', 'DRILL BIT ID', 'DRILL BIT NAME', 'RUN ID', 'TIME'])\n",
    "ChallengeDriller = pd.DataFrame(columns = ['BIT DEPTH', 'RATE OF PENETRATION', 'HOOK LOAD', 'DIFFERENTIAL PRESSURE', 'WEIGHT ON BIT', 'DRILL BIT ID', 'DRILL BIT NAME', 'RUN ID', 'TIME'])\n",
    "Apollo = pd.DataFrame(columns = ['BIT DEPTH', 'RATE OF PENETRATION', 'HOOK LOAD', 'DIFFERENTIAL PRESSURE', 'WEIGHT ON BIT', 'DRILL BIT ID', 'DRILL BIT NAME', 'RUN ID', 'TIME'])\n",
    "\n",
    "DrillFrames = []\n"
   ]
  },
  {
   "cell_type": "code",
   "execution_count": null,
   "id": "58a0bbdc",
   "metadata": {},
   "outputs": [],
   "source": [
    "for i in range(4):\n",
    "    BIT_DEPTH = []\n",
    "    RATE_OF_PENETRATION = []\n",
    "    HOOK_LOAD = []\n",
    "    DIFFERENTIAL_PRESSURE = []\n",
    "    WEIGHT_ON_BIT = []\n",
    "    DRILL_BIT_ID = []\n",
    "    DRILL_BIT_NAME = []\n",
    "    RUN_ID = []\n",
    "    TIME = []\n",
    "    TargetNames = [\"Buzz Drilldrin\", \"AstroBit\", \"ChallengDriller\", \"Apollo\"]\n",
    "    for index, row in f.iterrows():\n",
    "        if(row['DRILL BIT NAME'] == TargetNames[i]):\n",
    "            BIT_DEPTH.append(row['BIT DEPTH'])\n",
    "            RATE_OF_PENETRATION.append(row['RATE OF PENETRATION'])\n",
    "            HOOK_LOAD.append(row['HOOK LOAD'])\n",
    "            DIFFERENTIAL_PRESSURE.append(row['DIFFERENTIAL PRESSURE'])\n",
    "            WEIGHT_ON_BIT.append(row['WEIGHT ON BIT'])\n",
    "            DRILL_BIT_ID.append(row['DRILL BIT ID'])\n",
    "            DRILL_BIT_NAME.append(row['DRILL BIT NAME'])\n",
    "            RUN_ID.append(row['RUN ID'])\n",
    "            TIME.append(row['TIME'])\n",
    "    if(i == 0):\n",
    "        BuzzDrill['TIME']=TIME\n",
    "        BuzzDrill['BIT DEPTH'] = BIT_DEPTH\n",
    "        BuzzDrill['RATE OF PENETRATION'] = RATE_OF_PENETRATION\n",
    "        BuzzDrill['HOOK LOAD'] = HOOK_LOAD\n",
    "        BuzzDrill['DIFFERENTIAL PRESSURE'] = DIFFERENTIAL_PRESSURE\n",
    "        BuzzDrill['WEIGHT ON BIT'] = WEIGHT_ON_BIT\n",
    "        BuzzDrill['DRILL BIT ID'] = DRILL_BIT_ID\n",
    "        BuzzDrill['DRILL BIT NAME'] = DRILL_BIT_NAME\n",
    "        BuzzDrill['RUN ID'] = RUN_ID\n",
    "        BuzzDrill['Time'] = TIME\n",
    "    elif(i == 1):\n",
    "        AstroBit['TIME']=TIME\n",
    "        AstroBit['BIT DEPTH'] = BIT_DEPTH\n",
    "        AstroBit['RATE OF PENETRATION'] = RATE_OF_PENETRATION\n",
    "        AstroBit['HOOK LOAD'] = HOOK_LOAD\n",
    "        AstroBit['DIFFERENTIAL PRESSURE'] = DIFFERENTIAL_PRESSURE\n",
    "        AstroBit['WEIGHT ON BIT'] = WEIGHT_ON_BIT\n",
    "        AstroBit['DRILL BIT ID'] = DRILL_BIT_ID\n",
    "        AstroBit['DRILL BIT NAME'] = DRILL_BIT_NAME\n",
    "        AstroBit['RUN ID'] = RUN_ID\n",
    "        AstroBit['TIME'] = TIME\n",
    "    elif(i == 2):\n",
    "        ChallengeDriller['TIME']=TIME\n",
    "        ChallengeDriller['BIT DEPTH'] = BIT_DEPTH\n",
    "        ChallengeDriller['RATE OF PENETRATION'] = RATE_OF_PENETRATION\n",
    "        ChallengeDriller['HOOK LOAD'] = HOOK_LOAD\n",
    "        ChallengeDriller['DIFFERENTIAL PRESSURE'] = DIFFERENTIAL_PRESSURE\n",
    "        ChallengeDriller['WEIGHT ON BIT'] = WEIGHT_ON_BIT\n",
    "        ChallengeDriller['DRILL BIT ID'] = DRILL_BIT_ID\n",
    "        ChallengeDriller['DRILL BIT NAME'] = DRILL_BIT_NAME\n",
    "        ChallengeDriller['RUN ID'] = RUN_ID\n",
    "        ChallengeDriller['TIME'] = TIME\n",
    "    else:\n",
    "        Apollo['TIME']=TIME\n",
    "        Apollo['BIT DEPTH'] = BIT_DEPTH\n",
    "        Apollo['RATE OF PENETRATION'] = RATE_OF_PENETRATION\n",
    "        Apollo['HOOK LOAD'] = HOOK_LOAD\n",
    "        Apollo['DIFFERENTIAL PRESSURE'] = DIFFERENTIAL_PRESSURE\n",
    "        Apollo['WEIGHT ON BIT'] = WEIGHT_ON_BIT\n",
    "        Apollo['DRILL BIT ID'] = DRILL_BIT_ID\n",
    "        Apollo['DRILL BIT NAME'] = DRILL_BIT_NAME\n",
    "        Apollo['RUN ID'] = RUN_ID\n",
    "        Apollo['TIME'] = TIME\n",
    "        \n",
    "    \n",
    "    \n",
    "    "
   ]
  },
  {
   "cell_type": "code",
   "execution_count": null,
   "id": "ead5a79e",
   "metadata": {},
   "outputs": [],
   "source": [
    "file = open(\"Buzz Drilldrin.csv\", \"w\")\n",
    "file.write(BuzzDrill.to_csv())\n",
    "file.close()\n",
    "\n",
    "file = open(\"Astro Bit.csv\", \"w\")\n",
    "file.write(AstroBit.to_csv())\n",
    "file.close()\n",
    "\n",
    "file = open(\"ChallengDriller.csv\", \"w\")\n",
    "file.write(ChallengeDriller.to_csv())\n",
    "file.close()\n",
    "\n",
    "file = open(\"Apollo.csv\", \"w\")\n",
    "file.write(Apollo.to_csv())\n",
    "file.close()"
   ]
  },
  {
   "cell_type": "code",
   "execution_count": null,
   "id": "14a6fac5",
   "metadata": {},
   "outputs": [],
   "source": [
    "#for index, row in f.iterrows():\n",
    " #   if(row['DRILL BIT NAME'] == \"Buzz Drilldrin\"):\n",
    "        \n"
   ]
  },
  {
   "cell_type": "code",
   "execution_count": null,
   "id": "b8cfa243",
   "metadata": {},
   "outputs": [],
   "source": [
    "fig = px.scatter(f, x='TIME', y='BIT DEPTH', color='DRILL BIT NAME', hover_name = 'RUN ID')\n",
    "fig.show()\n",
    "currFrame = pd.DataFrame(columns=['Time', 'Bit Depth', 'Drill Bit Name', 'Run ID'])\n",
    "currFrame['Time'] = f['TIME']\n",
    "currFrame['Bit Depth'] = f['BIT DEPTH']\n",
    "currFrame['Drill Bit Name'] = f['DRILL BIT NAME']\n",
    "currFrame['Run ID'] = f['RUN ID']\n",
    "file = open(\"TimeByBitDepthDF.json\", \"w\")\n",
    "file.write(currFrame.to_json())\n",
    "file.close"
   ]
  },
  {
   "cell_type": "code",
   "execution_count": null,
   "id": "b5ae7e8b",
   "metadata": {},
   "outputs": [],
   "source": [
    "fig = px.scatter(f, x='TIME', y='RATE OF PENETRATION', color='DRILL BIT NAME')\n",
    "fig.show()"
   ]
  },
  {
   "cell_type": "code",
   "execution_count": null,
   "id": "c7088d78",
   "metadata": {},
   "outputs": [],
   "source": [
    "fig = px.scatter(f, x='BIT DEPTH', y='RATE OF PENETRATION', color='DRILL BIT NAME')\n",
    "fig.show()"
   ]
  },
  {
   "cell_type": "code",
   "execution_count": null,
   "id": "833c7940",
   "metadata": {},
   "outputs": [],
   "source": [
    "DEPTH_DICT={}\n",
    "for index, i in enumerate(f['BIT DEPTH']):\n",
    "    val=i-i%100\n",
    "    if val in DEPTH_DICT:\n",
    "        DEPTH_DICT[val].append(f['RATE OF PENETRATION'][index])\n",
    "    else:\n",
    "        DEPTH_DICT.update({val:[f['RATE OF PENETRATION'][index]]})\n",
    "TEMP_X=[]\n",
    "TEMP_Y=[]\n",
    "CUR_DEPTH_500_INDEX=0\n",
    "while CUR_DEPTH_500_INDEX in DEPTH_DICT:\n",
    "    TEMP_X.append(CUR_DEPTH_500_INDEX)\n",
    "    TEMP_Y.append(statistics.median(DEPTH_DICT[CUR_DEPTH_500_INDEX]))\n",
    "    CUR_DEPTH_500_INDEX+=100\n"
   ]
  },
  {
   "cell_type": "code",
   "execution_count": null,
   "id": "2805666d",
   "metadata": {},
   "outputs": [],
   "source": [
    "fig= px.scatter(x=TEMP_X, y=TEMP_Y)\n",
    "fig.show()\n",
    "# test=0.0\n",
    "# for temp in DEPTH_DICT[500]:\n",
    "#     test+=temp if temp==temp else 0\n",
    "# print(test/len(DEPTH_DICT[500]))"
   ]
  },
  {
   "cell_type": "code",
   "execution_count": null,
   "id": "f6ab6528",
   "metadata": {},
   "outputs": [],
   "source": [
    "fig = px.scatter(f, x='WEIGHT ON BIT', y='HOOK LOAD', color = 'DRILL BIT NAME')\n",
    "fig.show()"
   ]
  },
  {
   "cell_type": "code",
   "execution_count": null,
   "id": "f3540125",
   "metadata": {},
   "outputs": [],
   "source": [
    "RunBasedFrame = pd.DataFrame(columns=['Run ID', 'Mean Hook Load', 'Median Hook Load', 'Drill Bit Name', 'Num Drills Used', 'Total Distance', 'Mean Drill Distance', 'Mean RoP', 'Mean Differential Pressure', 'Time'])\n",
    "\n",
    "currID = 1\n",
    "\n",
    "HookLoads = []\n",
    "MEAN_HOOK_LOAD = []\n",
    "MEDIAN_HOOK_LOAD = []\n",
    "MEAN_DIFFERENTIAL = []\n",
    "MEAN_ROP = []\n",
    "Distances = []\n",
    "RunID = []\n",
    "Names = []\n",
    "TotalDifferential = []\n",
    "TotalRoP = []\n",
    "Times = []\n",
    "firstVal = True\n",
    "for index, row in f.iterrows():\n",
    "    if(firstVal):\n",
    "        InitialDist = row['BIT DEPTH']\n",
    "        name = row['DRILL BIT NAME']\n",
    "        firstVal = False\n",
    "    \n",
    "    if(row['RUN ID']) != currID:\n",
    "        RunID.append(currID)\n",
    "        Names.append(name)\n",
    "        name = row['DRILL BIT NAME']\n",
    "        currID = row['RUN ID']\n",
    "        Distances.append(finalDist - InitialDist)\n",
    "        MEAN_HOOK_LOAD.append(statistics.mean(HookLoads))\n",
    "        MEDIAN_HOOK_LOAD.append(statistics.median(HookLoads))\n",
    "        MEAN_DIFFERENTIAL.append(statistics.mean(TotalDifferential))\n",
    "        MEAN_ROP.append(statistics.mean(TotalRoP))\n",
    "        HookLoads.clear()\n",
    "        TotalDifferential.clear()\n",
    "        TotalRoP.clear()\n",
    "        InitialDist = row['BIT DEPTH']\n",
    "        Times.append(currTime)\n",
    "    currTime = row['TIME']\n",
    "    finalDist = row['BIT DEPTH']\n",
    "    TotalDifferential.append(row['DIFFERENTIAL PRESSURE'])\n",
    "    TotalRoP.append(row['RATE OF PENETRATION'])\n",
    "    HookLoads.append(row['HOOK LOAD'])\n",
    "    \n",
    "    \n",
    "\n",
    "RunID.append(currID)\n",
    "Names.append(name)\n",
    "Distances.append(row['BIT DEPTH'] - InitialDist)\n",
    "MEAN_HOOK_LOAD.append(statistics.mean(HookLoads))\n",
    "MEDIAN_HOOK_LOAD.append(statistics.median(HookLoads))\n",
    "MEAN_DIFFERENTIAL.append(statistics.mean(TotalDifferential))\n",
    "MEAN_ROP.append(statistics.mean(TotalRoP))\n",
    "HookLoads.clear()\n",
    "TotalDifferential.clear()\n",
    "TotalRoP.clear()\n",
    "InitialDist = row['BIT DEPTH']\n",
    "Times.append(row['TIME'])  \n",
    "\n"
   ]
  },
  {
   "cell_type": "code",
   "execution_count": null,
   "id": "4fbc1aba",
   "metadata": {},
   "outputs": [],
   "source": [
    "RunBasedFrame['Run ID'] = RunID\n",
    "RunBasedFrame['Mean Hook Load'] = MEAN_HOOK_LOAD\n",
    "RunBasedFrame['Median Hook Load'] = MEDIAN_HOOK_LOAD\n",
    "RunBasedFrame['Drill Bit Name'] = Names\n",
    "RunBasedFrame['Num Drills Used'] = AmountDrillsUsedPerRun\n",
    "RunBasedFrame['Mean RoP'] = MEAN_ROP\n",
    "RunBasedFrame['Mean Differential Pressure'] = MEAN_DIFFERENTIAL\n",
    "RunBasedFrame['Time'] = Times\n",
    "RunBasedFrame['Total Distance'] = Distances\n",
    "\n",
    "MeanDrillDistances = []\n",
    "for i in range(len(Distances)):\n",
    "    MeanDrillDistances.append(Distances[i]/AmountDrillsUsedPerRun[i])\n",
    "RunBasedFrame['Mean Drill Distance'] = MeanDrillDistances"
   ]
  },
  {
   "cell_type": "markdown",
   "id": "bf45db2a",
   "metadata": {},
   "source": [
    "# Produce a Run Based csv to process separately if needed"
   ]
  },
  {
   "cell_type": "code",
   "execution_count": null,
   "id": "36e49e41",
   "metadata": {},
   "outputs": [],
   "source": [
    "RunBasedFrame"
   ]
  },
  {
   "cell_type": "code",
   "execution_count": null,
   "id": "bcae6f64",
   "metadata": {},
   "outputs": [],
   "source": [
    "file = open(\"RunBased.csv\", \"w\")\n",
    "file.write(RunBasedFrame.to_csv())\n",
    "file.close()"
   ]
  },
  {
   "cell_type": "code",
   "execution_count": null,
   "id": "f1b3e306",
   "metadata": {},
   "outputs": [],
   "source": []
  }
 ],
 "metadata": {
  "kernelspec": {
   "display_name": "Python 3 (ipykernel)",
   "language": "python",
   "name": "python3"
  },
  "language_info": {
   "codemirror_mode": {
    "name": "ipython",
    "version": 3
   },
   "file_extension": ".py",
   "mimetype": "text/x-python",
   "name": "python",
   "nbconvert_exporter": "python",
   "pygments_lexer": "ipython3",
   "version": "3.9.7"
  }
 },
 "nbformat": 4,
 "nbformat_minor": 5
}
